{
  "nbformat": 4,
  "nbformat_minor": 0,
  "metadata": {
    "colab": {
      "name": "projectCode",
      "provenance": [],
      "collapsed_sections": [],
      "include_colab_link": true
    },
    "kernelspec": {
      "name": "python3",
      "display_name": "Python 3"
    }
  },
  "cells": [
    {
      "cell_type": "markdown",
      "metadata": {
        "id": "view-in-github",
        "colab_type": "text"
      },
      "source": [
        "<a href=\"https://colab.research.google.com/github/leaping96/Ajou_DataMining/blob/main/projectCode.ipynb\" target=\"_parent\"><img src=\"https://colab.research.google.com/assets/colab-badge.svg\" alt=\"Open In Colab\"/></a>"
      ]
    },
    {
      "cell_type": "code",
      "metadata": {
        "id": "pEXk9-tBv_AP",
        "colab": {
          "base_uri": "https://localhost:8080/"
        },
        "outputId": "bb87439a-374c-4716-b4df-eb074b26af51"
      },
      "source": [
        "#드라이브에 접근할 수 있도록 아래 코드 입력\n",
        "from google.colab import drive\n",
        "drive.mount('/content/drive')"
      ],
      "execution_count": null,
      "outputs": [
        {
          "output_type": "stream",
          "text": [
            "Mounted at /content/drive\n"
          ],
          "name": "stdout"
        }
      ]
    },
    {
      "cell_type": "code",
      "metadata": {
        "id": "e7x-ggK8wHhd"
      },
      "source": [
        "#불러올 파일의 경로를 filename 변수에 저장\n",
        "filename = '/content/drive/Shareddrives/데마/dataset.csv'"
      ],
      "execution_count": null,
      "outputs": []
    },
    {
      "cell_type": "code",
      "metadata": {
        "id": "VZafKZznwHxS",
        "colab": {
          "base_uri": "https://localhost:8080/",
          "height": 425
        },
        "outputId": "bc60e57e-67c1-418b-8482-f16ea5c1319a"
      },
      "source": [
        "import pandas as pd\n",
        "import numpy as np\n",
        "#pandas read_csv로 불러오기\n",
        "data = pd.read_csv(filename)\n",
        "data.head()"
      ],
      "execution_count": null,
      "outputs": [
        {
          "output_type": "execute_result",
          "data": {
            "text/html": [
              "<div>\n",
              "<style scoped>\n",
              "    .dataframe tbody tr th:only-of-type {\n",
              "        vertical-align: middle;\n",
              "    }\n",
              "\n",
              "    .dataframe tbody tr th {\n",
              "        vertical-align: top;\n",
              "    }\n",
              "\n",
              "    .dataframe thead th {\n",
              "        text-align: right;\n",
              "    }\n",
              "</style>\n",
              "<table border=\"1\" class=\"dataframe\">\n",
              "  <thead>\n",
              "    <tr style=\"text-align: right;\">\n",
              "      <th></th>\n",
              "      <th>세분화링크ID</th>\n",
              "      <th>위험도</th>\n",
              "      <th>위험등급</th>\n",
              "      <th>시도</th>\n",
              "      <th>시군구</th>\n",
              "      <th>읍면동</th>\n",
              "      <th>도로명</th>\n",
              "      <th>도로길이_m</th>\n",
              "      <th>차로수_편도</th>\n",
              "      <th>사고건수</th>\n",
              "      <th>사망자수</th>\n",
              "      <th>중상자수</th>\n",
              "      <th>경상자수</th>\n",
              "      <th>부상신고자수</th>\n",
              "      <th>도로위험도Basic</th>\n",
              "      <th>하늘상태</th>\n",
              "      <th>돌발상황</th>\n",
              "    </tr>\n",
              "  </thead>\n",
              "  <tbody>\n",
              "    <tr>\n",
              "      <th>0</th>\n",
              "      <td>2520003300_42150350_1</td>\n",
              "      <td>0.0</td>\n",
              "      <td>1</td>\n",
              "      <td>강원도</td>\n",
              "      <td>강릉시</td>\n",
              "      <td>옥계면</td>\n",
              "      <td>동해고속도로</td>\n",
              "      <td>30.000100</td>\n",
              "      <td>2</td>\n",
              "      <td>0</td>\n",
              "      <td>0</td>\n",
              "      <td>0</td>\n",
              "      <td>0</td>\n",
              "      <td>0</td>\n",
              "      <td>0.0</td>\n",
              "      <td>맑음</td>\n",
              "      <td></td>\n",
              "    </tr>\n",
              "    <tr>\n",
              "      <th>1</th>\n",
              "      <td>2520003300_42150350_2</td>\n",
              "      <td>0.0</td>\n",
              "      <td>1</td>\n",
              "      <td>강원도</td>\n",
              "      <td>강릉시</td>\n",
              "      <td>옥계면</td>\n",
              "      <td>동해고속도로</td>\n",
              "      <td>277.308438</td>\n",
              "      <td>2</td>\n",
              "      <td>0</td>\n",
              "      <td>0</td>\n",
              "      <td>0</td>\n",
              "      <td>0</td>\n",
              "      <td>0</td>\n",
              "      <td>0.0</td>\n",
              "      <td>맑음</td>\n",
              "      <td></td>\n",
              "    </tr>\n",
              "    <tr>\n",
              "      <th>2</th>\n",
              "      <td>2520003400_42150350_1</td>\n",
              "      <td>0.0</td>\n",
              "      <td>1</td>\n",
              "      <td>강원도</td>\n",
              "      <td>강릉시</td>\n",
              "      <td>옥계면</td>\n",
              "      <td>동해고속도로</td>\n",
              "      <td>30.000100</td>\n",
              "      <td>2</td>\n",
              "      <td>0</td>\n",
              "      <td>0</td>\n",
              "      <td>0</td>\n",
              "      <td>0</td>\n",
              "      <td>0</td>\n",
              "      <td>0.0</td>\n",
              "      <td>맑음</td>\n",
              "      <td></td>\n",
              "    </tr>\n",
              "    <tr>\n",
              "      <th>3</th>\n",
              "      <td>2520003400_42150350_2</td>\n",
              "      <td>0.0</td>\n",
              "      <td>1</td>\n",
              "      <td>강원도</td>\n",
              "      <td>강릉시</td>\n",
              "      <td>옥계면</td>\n",
              "      <td>동해고속도로</td>\n",
              "      <td>268.946612</td>\n",
              "      <td>2</td>\n",
              "      <td>0</td>\n",
              "      <td>0</td>\n",
              "      <td>0</td>\n",
              "      <td>0</td>\n",
              "      <td>0</td>\n",
              "      <td>0.0</td>\n",
              "      <td>맑음</td>\n",
              "      <td></td>\n",
              "    </tr>\n",
              "    <tr>\n",
              "      <th>4</th>\n",
              "      <td>2520004500_42150350_1</td>\n",
              "      <td>0.0</td>\n",
              "      <td>1</td>\n",
              "      <td>강원도</td>\n",
              "      <td>강릉시</td>\n",
              "      <td>옥계면</td>\n",
              "      <td>동해고속도로</td>\n",
              "      <td>200.000100</td>\n",
              "      <td>2</td>\n",
              "      <td>0</td>\n",
              "      <td>0</td>\n",
              "      <td>0</td>\n",
              "      <td>0</td>\n",
              "      <td>0</td>\n",
              "      <td>0.0</td>\n",
              "      <td>맑음</td>\n",
              "      <td></td>\n",
              "    </tr>\n",
              "  </tbody>\n",
              "</table>\n",
              "</div>"
            ],
            "text/plain": [
              "                 세분화링크ID  위험도  위험등급   시도  ... 부상신고자수 도로위험도Basic 하늘상태  돌발상황\n",
              "0  2520003300_42150350_1  0.0     1  강원도  ...      0        0.0   맑음      \n",
              "1  2520003300_42150350_2  0.0     1  강원도  ...      0        0.0   맑음      \n",
              "2  2520003400_42150350_1  0.0     1  강원도  ...      0        0.0   맑음      \n",
              "3  2520003400_42150350_2  0.0     1  강원도  ...      0        0.0   맑음      \n",
              "4  2520004500_42150350_1  0.0     1  강원도  ...      0        0.0   맑음      \n",
              "\n",
              "[5 rows x 17 columns]"
            ]
          },
          "metadata": {
            "tags": []
          },
          "execution_count": 3
        }
      ]
    },
    {
      "cell_type": "code",
      "metadata": {
        "colab": {
          "base_uri": "https://localhost:8080/"
        },
        "id": "viL7NxdPiszq",
        "outputId": "34d32478-ca82-4839-8b96-58d67379fe42"
      },
      "source": [
        "from google.colab import drive\n",
        "drive.mount('/content/drive')"
      ],
      "execution_count": null,
      "outputs": [
        {
          "output_type": "stream",
          "text": [
            "Drive already mounted at /content/drive; to attempt to forcibly remount, call drive.mount(\"/content/drive\", force_remount=True).\n"
          ],
          "name": "stdout"
        }
      ]
    },
    {
      "cell_type": "code",
      "metadata": {
        "id": "U9nb40ttLc6U",
        "colab": {
          "base_uri": "https://localhost:8080/",
          "height": 204
        },
        "outputId": "4100af27-8482-4dd9-fae9-d733d3d9be82"
      },
      "source": [
        "# 1. 불러온 데이터를 정규화/표준화 등 전처리가 필요한 부분 (동현)\n",
        "\n",
        "train_sample = data.loc[:,['도로길이_m','차로수_편도', '사고건수', '사망자수', '중상자수', '경상자수'] ]\n",
        "target = data.loc[:,['도로위험도Basic'] ]\n",
        "\n",
        "train_sample.head()\n",
        "\n",
        "\n",
        "\n",
        "\n",
        "\n",
        "\n",
        "\n",
        "\n",
        "\n",
        "\n",
        "\n"
      ],
      "execution_count": null,
      "outputs": [
        {
          "output_type": "execute_result",
          "data": {
            "text/html": [
              "<div>\n",
              "<style scoped>\n",
              "    .dataframe tbody tr th:only-of-type {\n",
              "        vertical-align: middle;\n",
              "    }\n",
              "\n",
              "    .dataframe tbody tr th {\n",
              "        vertical-align: top;\n",
              "    }\n",
              "\n",
              "    .dataframe thead th {\n",
              "        text-align: right;\n",
              "    }\n",
              "</style>\n",
              "<table border=\"1\" class=\"dataframe\">\n",
              "  <thead>\n",
              "    <tr style=\"text-align: right;\">\n",
              "      <th></th>\n",
              "      <th>도로길이_m</th>\n",
              "      <th>차로수_편도</th>\n",
              "      <th>사고건수</th>\n",
              "      <th>사망자수</th>\n",
              "      <th>중상자수</th>\n",
              "      <th>경상자수</th>\n",
              "    </tr>\n",
              "  </thead>\n",
              "  <tbody>\n",
              "    <tr>\n",
              "      <th>0</th>\n",
              "      <td>30.000100</td>\n",
              "      <td>2</td>\n",
              "      <td>0</td>\n",
              "      <td>0</td>\n",
              "      <td>0</td>\n",
              "      <td>0</td>\n",
              "    </tr>\n",
              "    <tr>\n",
              "      <th>1</th>\n",
              "      <td>277.308438</td>\n",
              "      <td>2</td>\n",
              "      <td>0</td>\n",
              "      <td>0</td>\n",
              "      <td>0</td>\n",
              "      <td>0</td>\n",
              "    </tr>\n",
              "    <tr>\n",
              "      <th>2</th>\n",
              "      <td>30.000100</td>\n",
              "      <td>2</td>\n",
              "      <td>0</td>\n",
              "      <td>0</td>\n",
              "      <td>0</td>\n",
              "      <td>0</td>\n",
              "    </tr>\n",
              "    <tr>\n",
              "      <th>3</th>\n",
              "      <td>268.946612</td>\n",
              "      <td>2</td>\n",
              "      <td>0</td>\n",
              "      <td>0</td>\n",
              "      <td>0</td>\n",
              "      <td>0</td>\n",
              "    </tr>\n",
              "    <tr>\n",
              "      <th>4</th>\n",
              "      <td>200.000100</td>\n",
              "      <td>2</td>\n",
              "      <td>0</td>\n",
              "      <td>0</td>\n",
              "      <td>0</td>\n",
              "      <td>0</td>\n",
              "    </tr>\n",
              "  </tbody>\n",
              "</table>\n",
              "</div>"
            ],
            "text/plain": [
              "       도로길이_m  차로수_편도  사고건수  사망자수  중상자수  경상자수\n",
              "0   30.000100       2     0     0     0     0\n",
              "1  277.308438       2     0     0     0     0\n",
              "2   30.000100       2     0     0     0     0\n",
              "3  268.946612       2     0     0     0     0\n",
              "4  200.000100       2     0     0     0     0"
            ]
          },
          "metadata": {
            "tags": []
          },
          "execution_count": 5
        }
      ]
    },
    {
      "cell_type": "code",
      "metadata": {
        "colab": {
          "base_uri": "https://localhost:8080/"
        },
        "id": "CuG1svh4zS3Y",
        "outputId": "f6dc3872-f3b9-42c1-f54a-2873b304778a"
      },
      "source": [
        "import missingno as msno \n",
        "# missingno 패키지 import (결측값 확인)\n",
        "\n",
        "train_sample.isnull().sum() #결측 data값 존재 x"
      ],
      "execution_count": null,
      "outputs": [
        {
          "output_type": "execute_result",
          "data": {
            "text/plain": [
              "도로길이_m    0\n",
              "차로수_편도    0\n",
              "사고건수      0\n",
              "사망자수      0\n",
              "중상자수      0\n",
              "경상자수      0\n",
              "dtype: int64"
            ]
          },
          "metadata": {
            "tags": []
          },
          "execution_count": 6
        }
      ]
    },
    {
      "cell_type": "code",
      "metadata": {
        "colab": {
          "base_uri": "https://localhost:8080/"
        },
        "id": "hm_P26_-y_rO",
        "outputId": "06962c10-b1a3-4d46-a66f-c4e3881a8937"
      },
      "source": [
        "#1 standardScaler code\n",
        "from sklearn.preprocessing import StandardScaler\n",
        "from sklearn.model_selection import train_test_split\n",
        "\n",
        "X_train, X_test, Y_train, Y_test = train_test_split(train_sample, target, test_size=0.33, random_state = 85)\n",
        "\n",
        "scaler = StandardScaler()\n",
        "X_train_scale = scaler.fit_transform(X_train)\n",
        "X_test_scale = scaler.transform(X_test)\n",
        "print('스케일 조정 전 features Min value : \\n',format(X_train.min(axis=0))) \n",
        "print('스케일 조정 전 features Max value : \\n',format(X_train.max(axis=0)))\n",
        "print('스케일 조정 후 features Min value : \\n',format(X_train_scale.min(axis=0)))\n",
        "print('스케일 조정 후 features Max value : \\n',format(X_train_scale.max(axis=0)))"
      ],
      "execution_count": null,
      "outputs": [
        {
          "output_type": "stream",
          "text": [
            "스케일 조정 전 features Min value : \n",
            " 도로길이_m    30.0001\n",
            "차로수_편도     1.0000\n",
            "사고건수       0.0000\n",
            "사망자수       0.0000\n",
            "중상자수       0.0000\n",
            "경상자수       0.0000\n",
            "dtype: float64\n",
            "스케일 조정 전 features Max value : \n",
            " 도로길이_m    322.207954\n",
            "차로수_편도      8.000000\n",
            "사고건수       39.000000\n",
            "사망자수        2.000000\n",
            "중상자수       16.000000\n",
            "경상자수       54.000000\n",
            "dtype: float64\n",
            "스케일 조정 후 features Min value : \n",
            " [-1.31426552 -1.09029412 -0.45839254 -0.11467328 -0.33619517 -0.39402162]\n",
            "스케일 조정 후 features Max value : \n",
            " [ 2.52620372  5.28159139 20.23487415 16.90107661 21.19145558 19.82950933]\n"
          ],
          "name": "stdout"
        }
      ]
    },
    {
      "cell_type": "code",
      "metadata": {
        "colab": {
          "base_uri": "https://localhost:8080/"
        },
        "id": "UKjBpLw_y7CQ",
        "outputId": "e7e821f4-5532-4ddf-cf69-930cee7df977"
      },
      "source": [
        "#2 RobustScaler code\n",
        "from sklearn.preprocessing import RobustScaler\n",
        "from sklearn.model_selection import train_test_split\n",
        "\n",
        "X_train, X_test, Y_train, Y_test = train_test_split(train_sample, target, test_size=0.33, random_state = 85)\n",
        "scaler = RobustScaler()\n",
        "X_train_scale = scaler.fit_transform(X_train)\n",
        "X_test_scale = scaler.transform(X_test)\n",
        "\n",
        "print('스케일 조정 전 features Min value : \\n',format(X_train.min(axis=0))) \n",
        "print('스케일 조정 전 features Max value : \\n',format(X_train.max(axis=0)))\n",
        "print('스케일 조정 후 features Min value : \\n',format(X_train_scale.min(axis=0)))\n",
        "print('스케일 조정 후 features Max value : \\n',format(X_train_scale.max(axis=0)))"
      ],
      "execution_count": null,
      "outputs": [
        {
          "output_type": "stream",
          "text": [
            "스케일 조정 전 features Min value : \n",
            " 도로길이_m    30.0001\n",
            "차로수_편도     1.0000\n",
            "사고건수       0.0000\n",
            "사망자수       0.0000\n",
            "중상자수       0.0000\n",
            "경상자수       0.0000\n",
            "dtype: float64\n",
            "스케일 조정 전 features Max value : \n",
            " 도로길이_m    322.207954\n",
            "차로수_편도      8.000000\n",
            "사고건수       39.000000\n",
            "사망자수        2.000000\n",
            "중상자수       16.000000\n",
            "경상자수       54.000000\n",
            "dtype: float64\n",
            "스케일 조정 후 features Min value : \n",
            " [-0.55282292 -0.5         0.          0.          0.          0.        ]\n",
            "스케일 조정 후 features Max value : \n",
            " [ 1.22616917  3.         39.          2.         16.         54.        ]\n"
          ],
          "name": "stdout"
        }
      ]
    },
    {
      "cell_type": "code",
      "metadata": {
        "colab": {
          "base_uri": "https://localhost:8080/"
        },
        "id": "pQ-3IlHty2eI",
        "outputId": "30cb1105-f62b-46ed-e7e3-fb2037be2c24"
      },
      "source": [
        "# 3 Normalizer code\n",
        "from sklearn.preprocessing import Normalizer\n",
        "from sklearn.model_selection import train_test_split\n",
        "\n",
        "X_train, X_test, Y_train, Y_test = train_test_split(train_sample, target, test_size=0.33, random_state = 85)\n",
        "scaler = Normalizer()\n",
        "X_train_scale = scaler.fit_transform(X_train)\n",
        "X_test_scale = scaler.transform(X_test)\n",
        "print('스케일 조정 전 features Min value : \\n',format(X_train.min(axis=0))) \n",
        "print('스케일 조정 전 features Max value : \\n',format(X_train.max(axis=0)))\n",
        "print('스케일 조정 후 features Min value : \\n',format(X_train_scale.min(axis=0)))\n",
        "print('스케일 조정 후 features Max value : \\n',format(X_train_scale.max(axis=0)))"
      ],
      "execution_count": null,
      "outputs": [
        {
          "output_type": "stream",
          "text": [
            "스케일 조정 전 features Min value : \n",
            " 도로길이_m    30.0001\n",
            "차로수_편도     1.0000\n",
            "사고건수       0.0000\n",
            "사망자수       0.0000\n",
            "중상자수       0.0000\n",
            "경상자수       0.0000\n",
            "dtype: float64\n",
            "스케일 조정 전 features Max value : \n",
            " 도로길이_m    322.207954\n",
            "차로수_편도      8.000000\n",
            "사고건수       39.000000\n",
            "사망자수        2.000000\n",
            "중상자수       16.000000\n",
            "경상자수       54.000000\n",
            "dtype: float64\n",
            "스케일 조정 후 features Min value : \n",
            " [0.60946035 0.00310357 0.         0.         0.         0.        ]\n",
            "스케일 조정 후 features Max value : \n",
            " [0.99999518 0.25766185 0.39974949 0.03324101 0.21633334 0.71103471]\n"
          ],
          "name": "stdout"
        }
      ]
    },
    {
      "cell_type": "code",
      "metadata": {
        "id": "vWQ-FI2CwH70"
      },
      "source": [
        "#2-1. poly 커널을 통하여 예측하기 (창희)\n",
        "import sys\n",
        "np.set_printoptions(threshold=sys.maxsize)\n",
        "\n",
        "# Generate sample data\n",
        "# 300개 / 100개로 1차 train 후  => 3000개 / 200개+@로 2차train 할것!\n",
        "X = X_train_scale[0:3000]\n",
        "y = Y_train[0:3000]\n",
        "\n",
        "y = np.array(y, dtype=np.float64).ravel()\n",
        "svr = SVR(kernel = 'poly', gamma='auto', degree=2, epsilon=0.1).fit(X, y)\n",
        "\n",
        "X_test_scale = X_test_scale[0:300]\n",
        "Y_test = Y_test[0:300]\n",
        "\n",
        "# 예측score(정확도) 계산하여 출력하기\n",
        "score = svr.score(X_test_scale,Y_test)\n",
        "print(score)\n"
      ],
      "execution_count": null,
      "outputs": []
    },
    {
      "cell_type": "code",
      "metadata": {
        "id": "m6yXqagkqTUw"
      },
      "source": [
        ""
      ],
      "execution_count": null,
      "outputs": []
    },
    {
      "cell_type": "code",
      "metadata": {
        "id": "WWzyh4RVLPSH"
      },
      "source": [
        "#3-1 예측한 데이터 바탕으로 후처리가 들어가야 할 부분 (용민)"
      ],
      "execution_count": null,
      "outputs": []
    },
    {
      "cell_type": "code",
      "metadata": {
        "id": "kcZ_QoE1wH-r"
      },
      "source": [
        "# 예측score(정확도) 계산하여 출력하기\n",
        "score = svr.score(x_test,y_test_)\n",
        "score"
      ],
      "execution_count": null,
      "outputs": []
    },
    {
      "cell_type": "code",
      "metadata": {
        "id": "-IpLAzfHwIBK"
      },
      "source": [
        "#2-2 linear 커널을 통하여 예측하기(정우)\n",
        "import sys\n",
        "np.set_printoptions(threshold=sys.maxsize)\n",
        "\n",
        "# Generate sample data\n",
        "X = X_train_scale\n",
        "y = Y_train\n",
        "y = np.array(y, dtype=np.float64).ravel()\n",
        "\n",
        "param_grid = [\n",
        "    {'kernel': ['linear'],'C':[0.001,0.01,0.1,1,10,100]}\n",
        "]\n",
        "svm_reg = SVR()\n",
        "\n",
        "svr = SVR(kernel = 'linear', C = '10').fit(X, y)\n",
        "\n",
        "score = svr.score(X_test_scale, Y_test)\n",
        "print(score)"
      ],
      "execution_count": null,
      "outputs": []
    },
    {
      "cell_type": "code",
      "metadata": {
        "id": "X05wNucqwHur"
      },
      "source": [
        "#3-2 예측한 데이터 바탕으로 후처리가 들어가야 할 부분(용민)"
      ],
      "execution_count": null,
      "outputs": []
    },
    {
      "cell_type": "code",
      "metadata": {
        "id": "0c-zeOlswHvq",
        "colab": {
          "base_uri": "https://localhost:8080/",
          "height": 208
        },
        "outputId": "1e233d81-27f8-44df-8e60-09f8a1ca48ab"
      },
      "source": [
        "# 예측score(정확도) 계산하여 출력하기\n",
        "score = svr.score(x_test,y_test_)\n",
        "score"
      ],
      "execution_count": null,
      "outputs": [
        {
          "output_type": "error",
          "ename": "NameError",
          "evalue": "ignored",
          "traceback": [
            "\u001b[0;31m---------------------------------------------------------------------------\u001b[0m",
            "\u001b[0;31mNameError\u001b[0m                                 Traceback (most recent call last)",
            "\u001b[0;32m<ipython-input-18-99e7a36cf4f7>\u001b[0m in \u001b[0;36m<module>\u001b[0;34m()\u001b[0m\n\u001b[1;32m      1\u001b[0m \u001b[0;31m# 예측score(정확도) 계산하여 출력하기\u001b[0m\u001b[0;34m\u001b[0m\u001b[0;34m\u001b[0m\u001b[0;34m\u001b[0m\u001b[0m\n\u001b[0;32m----> 2\u001b[0;31m \u001b[0mscore\u001b[0m \u001b[0;34m=\u001b[0m \u001b[0msvr\u001b[0m\u001b[0;34m.\u001b[0m\u001b[0mscore\u001b[0m\u001b[0;34m(\u001b[0m\u001b[0mx_test\u001b[0m\u001b[0;34m,\u001b[0m\u001b[0my_test_\u001b[0m\u001b[0;34m)\u001b[0m\u001b[0;34m\u001b[0m\u001b[0;34m\u001b[0m\u001b[0m\n\u001b[0m\u001b[1;32m      3\u001b[0m \u001b[0mscore\u001b[0m\u001b[0;34m\u001b[0m\u001b[0;34m\u001b[0m\u001b[0m\n",
            "\u001b[0;31mNameError\u001b[0m: name 'svr' is not defined"
          ]
        }
      ]
    }
  ]
}